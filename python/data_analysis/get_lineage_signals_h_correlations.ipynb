{
 "cells": [
  {
   "cell_type": "code",
   "execution_count": 1,
   "id": "c32f79a4",
   "metadata": {},
   "outputs": [],
   "source": [
    "import pandas as pd\n",
    "from dataclasses import dataclass\n",
    "import seaborn as sns\n",
    "import matplotlib.pyplot as plt\n",
    "from scipy import stats\n",
    "import statsmodels.api as sm\n",
    "import numpy as np\n",
    "from scipy.stats import t\n",
    "from scipy.stats import f\n",
    "import scipy.stats as stats\n",
    "from scipy.stats import ttest_rel\n",
    "from scipy.stats import ttest_ind\n",
    "from scipy.stats import pearsonr\n",
    "from itertools import combinations\n",
    "from collections import defaultdict\n",
    "\n",
    "pd.set_option('display.max_columns', None)\n",
    "pd.set_option('display.max_rows', None)"
   ]
  },
  {
   "cell_type": "code",
   "execution_count": 137,
   "id": "58420ff6",
   "metadata": {},
   "outputs": [],
   "source": [
    "df = pd.read_csv(\"df_norm_3_time_all_median.csv\")"
   ]
  },
  {
   "cell_type": "code",
   "execution_count": 138,
   "id": "63c8e886",
   "metadata": {},
   "outputs": [],
   "source": [
    "df = df.dropna(subset=['relative_ID'])\n",
    "\n",
    "# Convert the column to integers\n",
    "df['relative_ID'] = df['relative_ID'].astype(int)"
   ]
  },
  {
   "cell_type": "code",
   "execution_count": 139,
   "id": "22222f1c",
   "metadata": {},
   "outputs": [],
   "source": [
    "df[\"exp_pos_rel_cell\"] = (df[\"experiment_foldername\"]\n",
    "                          + \"_\"\n",
    "                          + df[\"Position_n\"].astype(str)\n",
    "                          + \"_\"\n",
    "                          + df[\"relative_ID\"].astype(str))"
   ]
  },
  {
   "cell_type": "code",
   "execution_count": 172,
   "id": "032d909f",
   "metadata": {},
   "outputs": [
    {
     "data": {
      "text/plain": [
       "False    9742\n",
       "True       97\n",
       "Name: lateral_bud, dtype: int64"
      ]
     },
     "execution_count": 172,
     "metadata": {},
     "output_type": "execute_result"
    }
   ],
   "source": [
    "# exclude all buds that are 'True' in column 'lateral_bud' \n",
    "lateral_buds = [\n",
    "    \"exp1_Position_1_5\",\n",
    "    \"exp1_Position_2_4\",\n",
    "    \"exp1_Position_6_531\",\n",
    "    \"exp4_Position_1_5\",\n",
    "    \"exp4_Position_4_1131\",\n",
    "    \"exp4_Position_4_607\",\n",
    "]\n",
    "\n",
    "df[\"lateral_bud\"] = np.isin(df[\"exp_pos_cell\"], lateral_buds)\n",
    "df[\"lateral_bud\"].value_counts()\n",
    "\n",
    "df[\"from_lateral_bud\"] = np.isin(df[\"exp_pos_rel_cell\"], lateral_buds)\n",
    "df[\"lateral_bud\"].value_counts()\n",
    "\n",
    "#df_lat = df[~df['lateral_bud'].isin([True])]\n",
    "#df_lat"
   ]
  },
  {
   "cell_type": "code",
   "execution_count": 173,
   "id": "473e6521",
   "metadata": {},
   "outputs": [],
   "source": [
    "df = df[~df['lateral_bud'].isin([True])]"
   ]
  },
  {
   "cell_type": "code",
   "execution_count": 174,
   "id": "edddd7ab",
   "metadata": {},
   "outputs": [],
   "source": [
    "@dataclass\n",
    "class Cell:\n",
    "    exp_pos_cell: str\n",
    "    trajectory: pd.DataFrame"
   ]
  },
  {
   "cell_type": "code",
   "execution_count": 175,
   "id": "359cc812",
   "metadata": {},
   "outputs": [],
   "source": [
    "# gets dataframes that contain all frames and data where a particular cell is mother to a daughter cell\n",
    "def get_mother_trajectory(df, exp_pos_cell):\n",
    "    df = df[df.exp_pos_cell\t== exp_pos_cell] \n",
    "    return df[(df.relative_ID > df.Cell_ID) & (df.relationship == 'mother')]"
   ]
  },
  {
   "cell_type": "code",
   "execution_count": 176,
   "id": "b72ef72c",
   "metadata": {},
   "outputs": [],
   "source": [
    "def get_trajectories(exp_pos_cell):\n",
    "\n",
    "    trajectories = []\n",
    "    \n",
    "    trajectory = [exp_pos_cell]\n",
    "\n",
    "    daughters = get_mother_trajectory(df, exp_pos_cell).exp_pos_rel_cell.unique()\n",
    "\n",
    "    if len(daughters) == 0: \n",
    "        trajectories.append(trajectory)\n",
    "        return trajectories\n",
    "        \n",
    "\n",
    "    for daughter in daughters:\n",
    "        trajectory = [exp_pos_cell]\n",
    "        #print(f'Daughter considered is: {daughter}')\n",
    "\n",
    "        trajectory.append(daughter)\n",
    "        #print(f'trajectory extended by daughter: {trajectory}')\n",
    "        \n",
    "        grand_daughters = get_mother_trajectory(df, daughter).exp_pos_rel_cell.unique()\n",
    "        \n",
    "        if len(grand_daughters) == 0:\n",
    "            trajectories.append(trajectory)\n",
    "            trajectory = [exp_pos_cell]\n",
    "            #print(f'No Granddaughters: {trajectory}')\n",
    "            continue\n",
    "        \n",
    "        for grand_daughter in grand_daughters:\n",
    "            trajectory = [exp_pos_cell, daughter]\n",
    "            #print(f'next grand daughter: {grand_daughter}')\n",
    "            trajectory.append(grand_daughter)\n",
    "            #print(f'trajectory extended by grand daughter: {trajectory}')\n",
    "            #print(len(trajectory))\n",
    "            grand_grand_daughters = get_mother_trajectory(df, grand_daughter).exp_pos_rel_cell.unique()\n",
    "\n",
    "            if len(grand_grand_daughters) == 0:\n",
    "                trajectories.append(trajectory)\n",
    "                trajectory = [exp_pos_cell, daughter]\n",
    "                #print(f'No GrandGranddaughters: {trajectory}')\n",
    "                continue\n",
    "            \n",
    "            for grand_grand_daughter in grand_grand_daughters:\n",
    "                trajectory = [exp_pos_cell, daughter, grand_daughter]\n",
    "                #print(f'next grand grand daughter: {grand_grand_daughter}')\n",
    "                trajectory.append(grand_grand_daughter)\n",
    "                \n",
    "                trajectories.append(trajectory)\n",
    "                \n",
    "                \n",
    "                #print(f'trajectory extended grand grand daughter: {trajectory}')#\n",
    "                #print(len(trajectory))\n",
    "                \n",
    "                #trajectory = [exp_pos_cell, daughter, grand_daughter]\n",
    "                \n",
    "    return trajectories"
   ]
  },
  {
   "cell_type": "code",
   "execution_count": 177,
   "id": "1f135534",
   "metadata": {},
   "outputs": [],
   "source": [
    "signal_to_use = \"h\"\n",
    "\n",
    "def get_mother_signals(df, lineage_df, exp_pos_cell):\n",
    "\n",
    "    signal_dicts = []\n",
    "\n",
    "    exp_pos_cell_df = df[df.exp_pos_cell == exp_pos_cell]\n",
    "    initial_mother_signal = exp_pos_cell_df[(exp_pos_cell_df.relative_ID < exp_pos_cell_df.Cell_ID) & (exp_pos_cell_df.relationship == 'mother')][signal_to_use].mean()\n",
    "\n",
    "    for row in lineage_df.itertuples():\n",
    "    \n",
    "        mother = df[df.exp_pos_cell == row.mother]\n",
    "        daughter = df[df.exp_pos_cell == row.daughter]\n",
    "        grand_daughter = df[df.exp_pos_cell == row.grand_daughter]\n",
    "        grand_grand_daughter = df[df.exp_pos_cell == row.grand_grand_daughter]\n",
    "    \n",
    "        # the frames where mother connected to daughter\n",
    "        first_gen = mother[mother.exp_pos_rel_cell == row.daughter].frame_i.to_list()\n",
    "        # for those frames get the mean signal of the mother\n",
    "        mother_signal_first_gen = mother[mother.frame_i.isin(first_gen)][signal_to_use].mean()\n",
    "    \n",
    "        # the frames where daughter connected to grand_daughter\n",
    "        second_gen = daughter[daughter.exp_pos_rel_cell == row.grand_daughter].frame_i.to_list()\n",
    "        # for those frames get the mean signal of the mother\n",
    "        mother_signal_second_gen = mother[mother.frame_i.isin(second_gen)][signal_to_use].mean()\n",
    "    \n",
    "        # the frames where grand_daughter connected to grand_grand_daughter\n",
    "        third_gen = grand_daughter[grand_daughter.exp_pos_rel_cell == row.grand_grand_daughter].frame_i.to_list()\n",
    "        # for those frames get the mean signal of the mother\n",
    "        mother_signal_third_gen = mother[mother.frame_i.isin(third_gen)][signal_to_use].mean()\n",
    "\n",
    "        # the frames where mother connected to daughter\n",
    "        first_gen_lin = mother[mother.exp_pos_rel_cell == row.daughter].frame_i.to_list()\n",
    "        # for those frames get the mean signal of the mother\n",
    "        mother_signal = mother[mother.frame_i.isin(first_gen_lin)][signal_to_use].mean()\n",
    "        # note: mother signal and mother_signal_first_gen is the same thing \n",
    "    \n",
    "        # the frames where daughter connected to grand_daughter\n",
    "        second_gen_lin = daughter[daughter.exp_pos_rel_cell == row.grand_daughter].frame_i.to_list()\n",
    "        # for those frames get the mean signal of the mother\n",
    "        daughter_signal = daughter[daughter.frame_i.isin(second_gen_lin)][signal_to_use].mean()\n",
    "    \n",
    "        # the frames where grand_daughter connected to grand_grand_daughter\n",
    "        third_gen_lin = grand_daughter[grand_daughter.exp_pos_rel_cell == row.grand_grand_daughter].frame_i.to_list()\n",
    "        # for those frames get the mean signal of the mother\n",
    "        grand_daughter_signal = grand_daughter[grand_daughter.frame_i.isin(third_gen_lin)][signal_to_use].mean()\n",
    "        \n",
    "\n",
    "        signal_dicts.append({\n",
    "            \"mother_exp_pos_cell\": exp_pos_cell,\n",
    "            \"daughter_exp_pos_cell\": row.daughter,\n",
    "            \"grand_daughter_exp_pos_cell\": row.grand_daughter,\n",
    "            \"grand_grand_daughter_exp_pos_cell\": row.grand_grand_daughter,\n",
    "            \"initial_mother_signal\": initial_mother_signal,\n",
    "            \"mother_signal_first_gen\": mother_signal_first_gen,\n",
    "            \"mother_signal_second_gen\": mother_signal_second_gen,\n",
    "            'mother_signal_third_gen': mother_signal_third_gen,\n",
    "            \"mother_signal\": mother_signal,\n",
    "            \"daughter_signal\": daughter_signal,\n",
    "            'grand_daughter_signal': grand_daughter_signal, \n",
    "    }\n",
    "        )\n",
    "\n",
    "    return signal_dicts"
   ]
  },
  {
   "cell_type": "code",
   "execution_count": 178,
   "id": "6a360df6",
   "metadata": {},
   "outputs": [],
   "source": [
    "all_signals = []\n",
    "\n",
    "for cell in df.exp_pos_cell.unique():\n",
    "    trajectories = get_trajectories(cell)\n",
    "\n",
    "    new_trajectories = []\n",
    "    \n",
    "    for sublist in trajectories:\n",
    "        while len(sublist) < 4:\n",
    "            sublist.append(None)\n",
    "        new_trajectories.append(sublist)\n",
    "\n",
    "    lineage_df = pd.DataFrame(new_trajectories, columns=['mother', 'daughter', 'grand_daughter', 'grand_grand_daughter'])\n",
    "    signals = get_mother_signals(df, lineage_df, cell)\n",
    "    all_signals.extend(signals)"
   ]
  },
  {
   "cell_type": "code",
   "execution_count": 179,
   "id": "a76e42d0",
   "metadata": {},
   "outputs": [],
   "source": [
    "final_df = pd.DataFrame.from_records(all_signals)\n",
    "final_df['exp_pos'] = final_df['mother_exp_pos_cell'].str.split('_').str[:-1].str.join('_')"
   ]
  },
  {
   "cell_type": "code",
   "execution_count": 183,
   "id": "3777dd1b",
   "metadata": {},
   "outputs": [],
   "source": [
    "final_df['Mother_First_Gen/Daughter'] = final_df['mother_signal_first_gen']/final_df['daughter_signal']\n",
    "final_df['Daughter/Daughter'] = final_df['daughter_signal']/final_df['daughter_signal']\n",
    "\n",
    "final_df['Mother_First_Gen/Mother_Sec_Gen'] = final_df['mother_signal_first_gen']/final_df['mother_signal_second_gen']\n",
    "\n",
    "final_df['Mother_First_Gen/GrandDaughter'] = final_df['mother_signal_first_gen']/final_df['grand_daughter_signal']\n",
    "\n",
    "final_df['Mother_Sec_Gen/Daughter'] = final_df['mother_signal_second_gen']/final_df['daughter_signal']\n",
    "final_df['GrandDaughter/Daughter'] = final_df['grand_daughter_signal']/final_df['daughter_signal']\n",
    "\n",
    "final_df['Mother_First_Gen/Mother_Third_Gen'] = final_df['mother_signal_first_gen']/final_df['mother_signal_third_gen']"
   ]
  },
  {
   "cell_type": "code",
   "execution_count": 186,
   "id": "fce8f37a",
   "metadata": {},
   "outputs": [],
   "source": [
    "# exclude all mothers whose values are outside the heteroplasmic range\n",
    "# based on the last timepoint distribution with gaussian fitting\n",
    "# range: 0.47 - 0.65\n",
    "\n",
    "condition = (final_df['mother_signal'] >= 0.3) & (final_df['mother_signal'] <= 0.7)\n",
    "final_df_ = final_df[condition]"
   ]
  },
  {
   "cell_type": "code",
   "execution_count": 205,
   "id": "dfa48f22",
   "metadata": {},
   "outputs": [],
   "source": [
    "def calculate_correlation(df, col_x, col_y):\n",
    "    \n",
    "    # Group by 'exp_pos' column\n",
    "    grouped = df.groupby('exp_pos')\n",
    "\n",
    "    correlation_coefficients = {}\n",
    "    for group_name, group_df in grouped:\n",
    "        # Calculate correlation coefficient for the group\n",
    "        corr_coefficient = group_df[col_x].corr(group_df[col_y])\n",
    "        correlation_coefficients[group_name] = corr_coefficient\n",
    "\n",
    "    return correlation_coefficients"
   ]
  },
  {
   "cell_type": "code",
   "execution_count": 206,
   "id": "3454c2bd",
   "metadata": {},
   "outputs": [
    {
     "data": {
      "text/html": [
       "<div>\n",
       "<style scoped>\n",
       "    .dataframe tbody tr th:only-of-type {\n",
       "        vertical-align: middle;\n",
       "    }\n",
       "\n",
       "    .dataframe tbody tr th {\n",
       "        vertical-align: top;\n",
       "    }\n",
       "\n",
       "    .dataframe thead th {\n",
       "        text-align: right;\n",
       "    }\n",
       "</style>\n",
       "<table border=\"1\" class=\"dataframe\">\n",
       "  <thead>\n",
       "    <tr style=\"text-align: right;\">\n",
       "      <th></th>\n",
       "      <th>exp_pos</th>\n",
       "      <th>correlation_m1_d</th>\n",
       "      <th>correlation_m1_gd</th>\n",
       "      <th>correlation_d_gd</th>\n",
       "      <th>correlation_m1_m2</th>\n",
       "      <th>correlation_m1_m3</th>\n",
       "      <th>correlation_m2_d</th>\n",
       "      <th>correlation_m3_gd</th>\n",
       "      <th>correlation_m2_m3</th>\n",
       "    </tr>\n",
       "  </thead>\n",
       "  <tbody>\n",
       "    <tr>\n",
       "      <th>0</th>\n",
       "      <td>exp1_Position_1</td>\n",
       "      <td>0.593034</td>\n",
       "      <td>0.001465</td>\n",
       "      <td>0.799719</td>\n",
       "      <td>0.785648</td>\n",
       "      <td>0.536834</td>\n",
       "      <td>0.822585</td>\n",
       "      <td>0.573584</td>\n",
       "      <td>0.779477</td>\n",
       "    </tr>\n",
       "    <tr>\n",
       "      <th>1</th>\n",
       "      <td>exp1_Position_2</td>\n",
       "      <td>0.821672</td>\n",
       "      <td>0.568949</td>\n",
       "      <td>0.870775</td>\n",
       "      <td>0.888909</td>\n",
       "      <td>0.735226</td>\n",
       "      <td>0.823612</td>\n",
       "      <td>0.536269</td>\n",
       "      <td>0.864378</td>\n",
       "    </tr>\n",
       "    <tr>\n",
       "      <th>2</th>\n",
       "      <td>exp4_Position_1</td>\n",
       "      <td>0.946751</td>\n",
       "      <td>0.855080</td>\n",
       "      <td>0.959505</td>\n",
       "      <td>0.921784</td>\n",
       "      <td>0.968245</td>\n",
       "      <td>0.897230</td>\n",
       "      <td>0.854161</td>\n",
       "      <td>0.973607</td>\n",
       "    </tr>\n",
       "    <tr>\n",
       "      <th>3</th>\n",
       "      <td>exp4_Position_2</td>\n",
       "      <td>0.658591</td>\n",
       "      <td>0.301957</td>\n",
       "      <td>0.921777</td>\n",
       "      <td>0.838953</td>\n",
       "      <td>0.581331</td>\n",
       "      <td>0.782898</td>\n",
       "      <td>0.473680</td>\n",
       "      <td>0.860676</td>\n",
       "    </tr>\n",
       "    <tr>\n",
       "      <th>4</th>\n",
       "      <td>exp4_Position_4</td>\n",
       "      <td>0.703513</td>\n",
       "      <td>0.319741</td>\n",
       "      <td>0.927533</td>\n",
       "      <td>0.772249</td>\n",
       "      <td>0.662460</td>\n",
       "      <td>0.659930</td>\n",
       "      <td>0.375788</td>\n",
       "      <td>0.885403</td>\n",
       "    </tr>\n",
       "    <tr>\n",
       "      <th>5</th>\n",
       "      <td>exp4_Position_5</td>\n",
       "      <td>0.794909</td>\n",
       "      <td>0.492613</td>\n",
       "      <td>0.941043</td>\n",
       "      <td>0.932200</td>\n",
       "      <td>0.888595</td>\n",
       "      <td>0.830890</td>\n",
       "      <td>0.652248</td>\n",
       "      <td>0.982281</td>\n",
       "    </tr>\n",
       "    <tr>\n",
       "      <th>6</th>\n",
       "      <td>exp5_Position_1</td>\n",
       "      <td>0.574834</td>\n",
       "      <td>0.610675</td>\n",
       "      <td>0.817011</td>\n",
       "      <td>0.795140</td>\n",
       "      <td>0.841981</td>\n",
       "      <td>0.515376</td>\n",
       "      <td>0.478366</td>\n",
       "      <td>0.801160</td>\n",
       "    </tr>\n",
       "    <tr>\n",
       "      <th>7</th>\n",
       "      <td>exp5_Position_2</td>\n",
       "      <td>0.711913</td>\n",
       "      <td>0.408063</td>\n",
       "      <td>0.931199</td>\n",
       "      <td>0.908030</td>\n",
       "      <td>0.844549</td>\n",
       "      <td>0.727566</td>\n",
       "      <td>0.529520</td>\n",
       "      <td>0.953751</td>\n",
       "    </tr>\n",
       "    <tr>\n",
       "      <th>8</th>\n",
       "      <td>exp5_Position_3</td>\n",
       "      <td>0.770545</td>\n",
       "      <td>0.586152</td>\n",
       "      <td>0.881734</td>\n",
       "      <td>0.866010</td>\n",
       "      <td>0.743557</td>\n",
       "      <td>0.724331</td>\n",
       "      <td>0.478597</td>\n",
       "      <td>0.936203</td>\n",
       "    </tr>\n",
       "  </tbody>\n",
       "</table>\n",
       "</div>"
      ],
      "text/plain": [
       "           exp_pos  correlation_m1_d  correlation_m1_gd  correlation_d_gd  \\\n",
       "0  exp1_Position_1          0.593034           0.001465          0.799719   \n",
       "1  exp1_Position_2          0.821672           0.568949          0.870775   \n",
       "2  exp4_Position_1          0.946751           0.855080          0.959505   \n",
       "3  exp4_Position_2          0.658591           0.301957          0.921777   \n",
       "4  exp4_Position_4          0.703513           0.319741          0.927533   \n",
       "5  exp4_Position_5          0.794909           0.492613          0.941043   \n",
       "6  exp5_Position_1          0.574834           0.610675          0.817011   \n",
       "7  exp5_Position_2          0.711913           0.408063          0.931199   \n",
       "8  exp5_Position_3          0.770545           0.586152          0.881734   \n",
       "\n",
       "   correlation_m1_m2  correlation_m1_m3  correlation_m2_d  correlation_m3_gd  \\\n",
       "0           0.785648           0.536834          0.822585           0.573584   \n",
       "1           0.888909           0.735226          0.823612           0.536269   \n",
       "2           0.921784           0.968245          0.897230           0.854161   \n",
       "3           0.838953           0.581331          0.782898           0.473680   \n",
       "4           0.772249           0.662460          0.659930           0.375788   \n",
       "5           0.932200           0.888595          0.830890           0.652248   \n",
       "6           0.795140           0.841981          0.515376           0.478366   \n",
       "7           0.908030           0.844549          0.727566           0.529520   \n",
       "8           0.866010           0.743557          0.724331           0.478597   \n",
       "\n",
       "   correlation_m2_m3  \n",
       "0           0.779477  \n",
       "1           0.864378  \n",
       "2           0.973607  \n",
       "3           0.860676  \n",
       "4           0.885403  \n",
       "5           0.982281  \n",
       "6           0.801160  \n",
       "7           0.953751  \n",
       "8           0.936203  "
      ]
     },
     "execution_count": 206,
     "metadata": {},
     "output_type": "execute_result"
    }
   ],
   "source": [
    "# Calculate the correlation coefficients for each combination BUT also per each exp_pos\n",
    "\n",
    "grouped = final_df.groupby('exp_pos')\n",
    "correlation_df = pd.DataFrame()\n",
    "correlation_df['exp_pos'] = grouped.groups.keys()\n",
    "\n",
    "correlation_df['correlation_m1_d'] = [grouped.get_group(group)['mother_signal_first_gen'].corr(grouped.get_group(group)['daughter_signal']) for group in grouped.groups.keys()]\n",
    "correlation_df['correlation_m1_gd'] = [grouped.get_group(group)['mother_signal_first_gen'].corr(grouped.get_group(group)['grand_daughter_signal']) for group in grouped.groups.keys()]\n",
    "correlation_df['correlation_d_gd'] = [grouped.get_group(group)['daughter_signal'].corr(grouped.get_group(group)['grand_daughter_signal']) for group in grouped.groups.keys()]\n",
    "\n",
    "correlation_df['correlation_m1_m2'] = [grouped.get_group(group)['mother_signal_first_gen'].corr(grouped.get_group(group)['mother_signal_second_gen']) for group in grouped.groups.keys()]\n",
    "correlation_df['correlation_m1_m3'] = [grouped.get_group(group)['mother_signal_first_gen'].corr(grouped.get_group(group)['mother_signal_third_gen']) for group in grouped.groups.keys()]\n",
    "\n",
    "correlation_df['correlation_m2_d'] = [grouped.get_group(group)['mother_signal_second_gen'].corr(grouped.get_group(group)['daughter_signal']) for group in grouped.groups.keys()]\n",
    "correlation_df['correlation_m3_gd'] = [grouped.get_group(group)['mother_signal_third_gen'].corr(grouped.get_group(group)['grand_daughter_signal']) for group in grouped.groups.keys()]\n",
    "\n",
    "correlation_df['correlation_m1_m2'] = [grouped.get_group(group)['mother_signal_first_gen'].corr(grouped.get_group(group)['mother_signal_second_gen']) for group in grouped.groups.keys()]\n",
    "correlation_df['correlation_m2_m3'] = [grouped.get_group(group)['mother_signal_second_gen'].corr(grouped.get_group(group)['mother_signal_third_gen']) for group in grouped.groups.keys()]\n",
    "\n",
    "correlation_df"
   ]
  },
  {
   "cell_type": "code",
   "execution_count": 207,
   "id": "0f9ce9ba",
   "metadata": {},
   "outputs": [
    {
     "name": "stdout",
     "output_type": "stream",
     "text": [
      "Overall t-test results:\n",
      "T-statistic: -4.694722848395579\n",
      "P-value: 0.0015520152320139867\n"
     ]
    }
   ],
   "source": [
    "t_statistic, p_value_m1d_m1m2 = ttest_rel(correlation_df['correlation_m1_d'], correlation_df['correlation_m1_m2'])\n",
    "\n",
    "# Display the results\n",
    "print(\"Overall t-test results:\")\n",
    "print(f\"T-statistic: {t_statistic}\")\n",
    "print(f\"P-value: {p_value_m1d_m1m2}\")"
   ]
  },
  {
   "cell_type": "code",
   "execution_count": 208,
   "id": "bfaab6c0",
   "metadata": {},
   "outputs": [
    {
     "name": "stdout",
     "output_type": "stream",
     "text": [
      "Overall t-test results:\n",
      "T-statistic: -6.204649728967442\n",
      "P-value: 0.00025811743846584277\n"
     ]
    }
   ],
   "source": [
    "t_statistic, p_value_m1gd_m1m3 = ttest_rel(correlation_df['correlation_m1_gd'], correlation_df['correlation_m1_m3'])\n",
    "\n",
    "# Display the results\n",
    "print(\"Overall t-test results:\")\n",
    "print(f\"T-statistic: {t_statistic}\")\n",
    "print(f\"P-value: {p_value_m1gd_m1m3}\")"
   ]
  },
  {
   "cell_type": "code",
   "execution_count": 209,
   "id": "0da25edb",
   "metadata": {},
   "outputs": [
    {
     "name": "stdout",
     "output_type": "stream",
     "text": [
      "Overall t-test results:\n",
      "T-statistic: 4.503606930848021\n",
      "P-value: 0.001992570004524687\n"
     ]
    }
   ],
   "source": [
    "t_statistic, p_value_m1d_m1gd = ttest_rel(correlation_df['correlation_m1_d'], correlation_df['correlation_m1_gd'])\n",
    "\n",
    "# Display the results\n",
    "print(\"Overall t-test results:\")\n",
    "print(f\"T-statistic: {t_statistic}\")\n",
    "print(f\"P-value: {p_value_m1d_m1gd}\")"
   ]
  },
  {
   "cell_type": "code",
   "execution_count": 210,
   "id": "67996f4c",
   "metadata": {},
   "outputs": [
    {
     "name": "stdout",
     "output_type": "stream",
     "text": [
      "Overall t-test results:\n",
      "T-statistic: 2.729100869971629\n",
      "P-value: 0.0258817652353244\n"
     ]
    }
   ],
   "source": [
    "t_statistic, p_value_m1m2_m1m3 = ttest_rel(correlation_df['correlation_m1_m2'], correlation_df['correlation_m1_m3'])\n",
    "\n",
    "# Display the results\n",
    "print(\"Overall t-test results:\")\n",
    "print(f\"T-statistic: {t_statistic}\")\n",
    "print(f\"P-value: {p_value_m1m2_m1m3}\")"
   ]
  },
  {
   "cell_type": "code",
   "execution_count": 211,
   "id": "1c43c747",
   "metadata": {},
   "outputs": [
    {
     "name": "stdout",
     "output_type": "stream",
     "text": [
      "Overall t-test results:\n",
      "T-statistic: 6.008010417638683\n",
      "P-value: 0.0003205204991638172\n"
     ]
    }
   ],
   "source": [
    "t_statistic, p_value_m2d_m3gd = ttest_rel(correlation_df['correlation_m2_d'], correlation_df['correlation_m3_gd'])\n",
    "\n",
    "# Display the results\n",
    "print(\"Overall t-test results:\")\n",
    "print(f\"T-statistic: {t_statistic}\")\n",
    "print(f\"P-value: {p_value_m2d_m3gd}\")"
   ]
  },
  {
   "cell_type": "code",
   "execution_count": 212,
   "id": "e4401f8c",
   "metadata": {},
   "outputs": [
    {
     "name": "stdout",
     "output_type": "stream",
     "text": [
      "Overall t-test results:\n",
      "T-statistic: -2.5944416158109713\n",
      "P-value: 0.03189214754377137\n"
     ]
    }
   ],
   "source": [
    "t_statistic, p_value_m1m2_m2m3 = ttest_rel(correlation_df['correlation_m1_m2'], correlation_df['correlation_m2_m3'])\n",
    "\n",
    "# Display the results\n",
    "print(\"Overall t-test results:\")\n",
    "print(f\"T-statistic: {t_statistic}\")\n",
    "print(f\"P-value: {p_value_m1m2_m2m3}\")"
   ]
  },
  {
   "cell_type": "code",
   "execution_count": 213,
   "id": "5e117c15",
   "metadata": {},
   "outputs": [
    {
     "name": "stdout",
     "output_type": "stream",
     "text": [
      "0.0015520152320139867 0.00025811743846584277 0.001992570004524687 0.0258817652353244 0.0003205204991638172\n"
     ]
    }
   ],
   "source": [
    "print(p_value_m1d_m1m2, p_value_m1gd_m1m3, p_value_m1d_m1gd, p_value_m1m2_m1m3, p_value_m2d_m3gd)"
   ]
  },
  {
   "cell_type": "code",
   "execution_count": 214,
   "id": "d59f289a",
   "metadata": {
    "scrolled": true
   },
   "outputs": [
    {
     "data": {
      "text/html": [
       "<div>\n",
       "<style scoped>\n",
       "    .dataframe tbody tr th:only-of-type {\n",
       "        vertical-align: middle;\n",
       "    }\n",
       "\n",
       "    .dataframe tbody tr th {\n",
       "        vertical-align: top;\n",
       "    }\n",
       "\n",
       "    .dataframe thead th {\n",
       "        text-align: right;\n",
       "    }\n",
       "</style>\n",
       "<table border=\"1\" class=\"dataframe\">\n",
       "  <thead>\n",
       "    <tr style=\"text-align: right;\">\n",
       "      <th></th>\n",
       "      <th>exp_pos</th>\n",
       "      <th>correlation_type</th>\n",
       "      <th>correlation</th>\n",
       "    </tr>\n",
       "  </thead>\n",
       "  <tbody>\n",
       "    <tr>\n",
       "      <th>67</th>\n",
       "      <td>exp4_Position_4</td>\n",
       "      <td>correlation_m2_m3</td>\n",
       "      <td>0.885403</td>\n",
       "    </tr>\n",
       "    <tr>\n",
       "      <th>68</th>\n",
       "      <td>exp4_Position_5</td>\n",
       "      <td>correlation_m2_m3</td>\n",
       "      <td>0.982281</td>\n",
       "    </tr>\n",
       "    <tr>\n",
       "      <th>69</th>\n",
       "      <td>exp5_Position_1</td>\n",
       "      <td>correlation_m2_m3</td>\n",
       "      <td>0.801160</td>\n",
       "    </tr>\n",
       "    <tr>\n",
       "      <th>70</th>\n",
       "      <td>exp5_Position_2</td>\n",
       "      <td>correlation_m2_m3</td>\n",
       "      <td>0.953751</td>\n",
       "    </tr>\n",
       "    <tr>\n",
       "      <th>71</th>\n",
       "      <td>exp5_Position_3</td>\n",
       "      <td>correlation_m2_m3</td>\n",
       "      <td>0.936203</td>\n",
       "    </tr>\n",
       "  </tbody>\n",
       "</table>\n",
       "</div>"
      ],
      "text/plain": [
       "            exp_pos   correlation_type  correlation\n",
       "67  exp4_Position_4  correlation_m2_m3     0.885403\n",
       "68  exp4_Position_5  correlation_m2_m3     0.982281\n",
       "69  exp5_Position_1  correlation_m2_m3     0.801160\n",
       "70  exp5_Position_2  correlation_m2_m3     0.953751\n",
       "71  exp5_Position_3  correlation_m2_m3     0.936203"
      ]
     },
     "execution_count": 214,
     "metadata": {},
     "output_type": "execute_result"
    }
   ],
   "source": [
    "melted_corr_df = correlation_df.melt(id_vars='exp_pos', value_vars=['correlation_m1_m2', 'correlation_m1_d', 'correlation_m1_m3', 'correlation_m1_gd', 'correlation_m2_d', 'correlation_m3_gd' , 'correlation_d_gd','correlation_m2_m3' ], \n",
    "                               var_name='correlation_type', value_name='correlation')\n",
    "\n",
    "melted_corr_df.tail(5)"
   ]
  },
  {
   "cell_type": "code",
   "execution_count": 216,
   "id": "b7f2a7b7",
   "metadata": {},
   "outputs": [],
   "source": [
    "selected_corr= ['correlation_m1_m2', 'correlation_m1_d','correlation_m1_m3','correlation_m1_gd']  # Replace with the correlation types you want to select\n",
    "\n",
    "selected_corr_df = melted_corr_df[melted_corr_df['correlation_type'].isin(selected_corr)]"
   ]
  },
  {
   "cell_type": "code",
   "execution_count": 169,
   "id": "caeec864",
   "metadata": {},
   "outputs": [
    {
     "name": "stderr",
     "output_type": "stream",
     "text": [
      "No handles with labels found to put in legend.\n"
     ]
    },
    {
     "data": {
      "image/png": "[encoded data removed]",
      "text/plain": [
       "<Figure size 216x288 with 1 Axes>"
      ]
     },
     "metadata": {
      "needs_background": "light"
     },
     "output_type": "display_data"
    }
   ],
   "source": [
    "fig, ax = plt.subplots(figsize=(3, 4))\n",
    "\n",
    "sns.swarmplot(data=selected_corr_df, x='correlation_type', y='correlation', color='gray', alpha=0.5)\n",
    "sns.boxplot(data=selected_corr_df, x='correlation_type', y='correlation', color= '#007676', linewidth=.7, width=.5)\n",
    "\n",
    "plt.xlabel('cor_coef')\n",
    "plt.ylabel('Correlation Coefficient')\n",
    "#plt.title('Correlation Coefficients btw M-progeny vs M-self')\n",
    "plt.xticks(rotation=70)\n",
    "plt.ylim(-0.25, 1.25)\n",
    "plt.legend().remove()\n",
    "plt.rcParams['svg.fonttype'] = 'none'\n",
    "#plt.savefig('cor_coef_m_d_gd_3d_meanProj.svg', transparent = True)"
   ]
  },
  {
   "cell_type": "code",
   "execution_count": 220,
   "id": "50dbcea3",
   "metadata": {},
   "outputs": [],
   "source": [
    "selected_corr_samelev = ['correlation_m2_d', 'correlation_m3_gd']  # Replace with the correlation types you want to select\n",
    "\n",
    "selected_corr_samelev_df = melted_corr_df[melted_corr_df['correlation_type'].isin(selected_corr_samelev)]"
   ]
  },
  {
   "cell_type": "code",
   "execution_count": 221,
   "id": "497b1b11",
   "metadata": {},
   "outputs": [
    {
     "name": "stderr",
     "output_type": "stream",
     "text": [
      "No handles with labels found to put in legend.\n"
     ]
    },
    {
     "data": {
      "image/png": "[encoded data removed]",
      "text/plain": [
       "<Figure size 144x288 with 1 Axes>"
      ]
     },
     "metadata": {
      "needs_background": "light"
     },
     "output_type": "display_data"
    }
   ],
   "source": [
    "fig, ax = plt.subplots(figsize=(2, 4))\n",
    "\n",
    "sns.swarmplot(data=selected_corr_samelev_df, x='correlation_type', y='correlation', color='gray', alpha=0.5)\n",
    "\n",
    "sns.boxplot(data=selected_corr_samelev_df, x='correlation_type', y='correlation', color= '#007676', linewidth=.7, width=.5)\n",
    "\n",
    "plt.xlabel('cor_coef')\n",
    "plt.ylabel('Correlation Coefficient')\n",
    "#plt.title('Correlation Coefficients btw M-progeny vs M-self')\n",
    "plt.xticks(rotation=70)\n",
    "plt.ylim(-0.25, 1.25)\n",
    "plt.legend().remove()\n",
    "plt.rcParams['svg.fonttype'] = 'none'\n",
    "#plt.savefig('cor_coef_m_progeny_same_level_meanProj.svg', transparent = True)"
   ]
  }
 ],
 "metadata": {
  "kernelspec": {
   "display_name": "Python 3",
   "language": "python",
   "name": "python3"
  },
  "language_info": {
   "codemirror_mode": {
    "name": "ipython",
    "version": 3
   },
   "file_extension": ".py",
   "mimetype": "text/x-python",
   "name": "python",
   "nbconvert_exporter": "python",
   "pygments_lexer": "ipython3",
   "version": "3.8.8"
  }
 },
 "nbformat": 4,
 "nbformat_minor": 5
}
