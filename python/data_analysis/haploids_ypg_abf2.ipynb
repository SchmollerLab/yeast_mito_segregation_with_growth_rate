{
 "cells": [
  {
   "cell_type": "code",
   "execution_count": 1,
   "id": "28b0532e",
   "metadata": {},
   "outputs": [],
   "source": [
    "import pandas as pd\n",
    "import matplotlib.pyplot as plt\n",
    "import seaborn as sns\n",
    "import numpy as np\n",
    "import scipy as sp\n",
    "from sklearn import preprocessing\n",
    "from sklearn.preprocessing import minmax_scale\n",
    "from scipy.optimize import curve_fit\n",
    "from sklearn.metrics import r2_score\n",
    "from scipy.stats import skew\n",
    "\n",
    "pd.set_option('max_columns', 500)"
   ]
  },
  {
   "cell_type": "code",
   "execution_count": 2,
   "id": "95e6f192",
   "metadata": {},
   "outputs": [],
   "source": [
    "df_ng_ypg =  pd.read_csv('/volumes/roussou/Microscopy/CellAsic/Atp6_NG_haploid/YPG/Positions/AllPos_acdc_output/AllPos_acdc_output__156.csv')\n",
    "df_mk_ypg = pd.read_csv('/volumes/roussou/Microscopy/CellAsic/Atp6_mKate_haploid/YPG/Positions/AllPos_acdc_output/AllPos_acdc_output__235.csv')"
   ]
  },
  {
   "cell_type": "code",
   "execution_count": 3,
   "id": "9232d571",
   "metadata": {},
   "outputs": [],
   "source": [
    "dabf2_df_ng = pd.read_csv('/volumes/roussou/Microscopy/CellAsic/Delta_abf2_Atp6_NG/positions/AllPos_acdc_output/AllPos_acdc_output__246.csv')\n",
    "dabf2_df_mk = pd.read_csv('/volumes/roussou/Microscopy/CellAsic/Delta_abf2_Atp6_mKate/positions/AllPos_acdc_output/AllPos_acdc_output__157.csv')"
   ]
  },
  {
   "cell_type": "code",
   "execution_count": 4,
   "id": "0c747b86",
   "metadata": {},
   "outputs": [],
   "source": [
    "def normalise_to_median_per_frame(df, intensity_column, max_frame):\n",
    "    # Check if 'experiment_foldername' column exists in the DataFrame\n",
    "    if 'experiment_foldername' in df.columns:\n",
    "        # If it exists, include it in the columns to keep\n",
    "        columns_to_keep = [\n",
    "            \"experiment_foldername\",\n",
    "            \"Position_n\",\n",
    "            \"frame_i\",\n",
    "            \"Cell_ID\",\n",
    "            \"cell_vol_fl\",\n",
    "            intensity_column,\n",
    "        ]\n",
    "\n",
    "        # Create 'exp_pos' using both 'experiment_foldername' and 'Position_n'\n",
    "        df[\"exp_pos\"] = (\n",
    "            df[\"experiment_foldername\"].astype(str)\n",
    "            + \"_\"\n",
    "            + df[\"Position_n\"].astype(str)\n",
    "        )\n",
    "    else:\n",
    "        # If it doesn't exist, exclude it from the columns to keep\n",
    "        columns_to_keep = [\n",
    "            \"Position_n\",\n",
    "            \"frame_i\",\n",
    "            \"Cell_ID\",\n",
    "            \"cell_vol_fl\",\n",
    "            intensity_column,\n",
    "        ]\n",
    "\n",
    "        # Create 'exp_pos' using only 'Position_n'\n",
    "        df[\"exp_pos\"] = df[\"Position_n\"].astype(str)\n",
    "\n",
    "    # Include 'exp_pos' in the columns to keep\n",
    "    columns_to_keep.append(\"exp_pos\")\n",
    "\n",
    "    df_processed = df[columns_to_keep]\n",
    "\n",
    "    df_processed[\"exp_pos_cell\"] = (\n",
    "        df_processed[\"exp_pos\"].astype(str) + \"_\"\n",
    "        + df_processed[\"Cell_ID\"].astype(str)\n",
    "    )\n",
    "\n",
    "    df_processed[\"time\"] = (15 * df_processed[\"frame_i\"]).div(60)\n",
    "\n",
    "    # Filter DataFrame based on the specified maximum frame\n",
    "    df_processed = df_processed[df_processed.frame_i <= max_frame]\n",
    "\n",
    "    # Calculate normalization factors using the median per frame\n",
    "    \n",
    "    normalization_factors = (\n",
    "        df_processed.groupby([\"exp_pos\", \"frame_i\"])\n",
    "        [intensity_column]\n",
    "        .median()\n",
    "        .reset_index()\n",
    "        .rename(columns={intensity_column: \"norm_factor\"})\n",
    "    )\n",
    "\n",
    "    df_norm = df_processed.merge(\n",
    "        normalization_factors, on=[\"exp_pos\", 'frame_i'], how=\"left\"\n",
    "    )\n",
    "\n",
    "    normalized_column_name = f\"{intensity_column}_norm\"\n",
    "    df_norm[normalized_column_name] = (\n",
    "        df_norm[intensity_column] / df_norm.norm_factor\n",
    "    )\n",
    "\n",
    "    return df_norm"
   ]
  },
  {
   "cell_type": "code",
   "execution_count": 5,
   "id": "50c1b3d7",
   "metadata": {},
   "outputs": [
    {
     "name": "stderr",
     "output_type": "stream",
     "text": [
      "<ipython-input-4-b83f2208d8c2>:38: SettingWithCopyWarning: \n",
      "A value is trying to be set on a copy of a slice from a DataFrame.\n",
      "Try using .loc[row_indexer,col_indexer] = value instead\n",
      "\n",
      "See the caveats in the documentation: https://pandas.pydata.org/pandas-docs/stable/user_guide/indexing.html#returning-a-view-versus-a-copy\n",
      "  df_processed[\"exp_pos_cell\"] = (\n",
      "<ipython-input-4-b83f2208d8c2>:43: SettingWithCopyWarning: \n",
      "A value is trying to be set on a copy of a slice from a DataFrame.\n",
      "Try using .loc[row_indexer,col_indexer] = value instead\n",
      "\n",
      "See the caveats in the documentation: https://pandas.pydata.org/pandas-docs/stable/user_guide/indexing.html#returning-a-view-versus-a-copy\n",
      "  df_processed[\"time\"] = (15 * df_processed[\"frame_i\"]).div(60)\n"
     ]
    }
   ],
   "source": [
    "df_ng_ypg_norm = normalise_to_median_per_frame(df=df_ng_ypg, intensity_column=\"_NG_3D_concentration_autoBkgr_from_vol_fl_meanProj\", max_frame=39)\n",
    "df_mk_ypg_norm = normalise_to_median_per_frame(df=df_mk_ypg, intensity_column=\"_mKate_3D_concentration_autoBkgr_from_vol_fl_meanProj\", max_frame=39)"
   ]
  },
  {
   "cell_type": "code",
   "execution_count": 6,
   "id": "2bbf50f5",
   "metadata": {},
   "outputs": [
    {
     "name": "stderr",
     "output_type": "stream",
     "text": [
      "<ipython-input-4-b83f2208d8c2>:38: SettingWithCopyWarning: \n",
      "A value is trying to be set on a copy of a slice from a DataFrame.\n",
      "Try using .loc[row_indexer,col_indexer] = value instead\n",
      "\n",
      "See the caveats in the documentation: https://pandas.pydata.org/pandas-docs/stable/user_guide/indexing.html#returning-a-view-versus-a-copy\n",
      "  df_processed[\"exp_pos_cell\"] = (\n",
      "<ipython-input-4-b83f2208d8c2>:43: SettingWithCopyWarning: \n",
      "A value is trying to be set on a copy of a slice from a DataFrame.\n",
      "Try using .loc[row_indexer,col_indexer] = value instead\n",
      "\n",
      "See the caveats in the documentation: https://pandas.pydata.org/pandas-docs/stable/user_guide/indexing.html#returning-a-view-versus-a-copy\n",
      "  df_processed[\"time\"] = (15 * df_processed[\"frame_i\"]).div(60)\n"
     ]
    }
   ],
   "source": [
    "dabf2_df_ng_norm = normalise_to_median_per_frame(df=dabf2_df_ng, intensity_column=\"_NG_3D_concentration_autoBkgr_from_vol_fl_meanProj\", max_frame=39)\n",
    "dabf2_df_mk_norm = normalise_to_median_per_frame(df=dabf2_df_mk, intensity_column=\"_mKate_3D_concentration_autoBkgr_from_vol_fl_meanProj\", max_frame=39)"
   ]
  },
  {
   "cell_type": "code",
   "execution_count": 22,
   "id": "5f35328b",
   "metadata": {},
   "outputs": [],
   "source": [
    "df_ng_ypg_norm.to_csv('df_ng_ypg_norm.csv', index=False)\n",
    "df_mk_ypg_norm.to_csv('df_mk_ypg_norm.csv', index=False)\n",
    "dabf2_df_ng_norm.to_csv('dabf2_df_ng_norm.csv', index=False)\n",
    "dabf2_df_mk_norm.to_csv('dabf2_df_mk_norm.csv', index=False)"
   ]
  },
  {
   "cell_type": "code",
   "execution_count": 7,
   "id": "63ba5e94",
   "metadata": {},
   "outputs": [],
   "source": [
    "def calculate_coefficient_of_variation_last_timepoint(df, column_name):\n",
    "    unique_exp_pos = set(df['exp_pos'].unique())\n",
    "\n",
    "    cv_dict = {}\n",
    "\n",
    "    for exp_pos in unique_exp_pos:\n",
    "        # Find the last timepoint for the current exp_pos\n",
    "        last_timepoint = df[df['exp_pos'] == exp_pos]['time'].max()\n",
    "\n",
    "        # Filter the DataFrame for the last timepoint for the current exp_pos\n",
    "        df_exp_pos_last_timepoint = df[(df['exp_pos'] == exp_pos) & (df['time'] == last_timepoint)]\n",
    "\n",
    "        if not df_exp_pos_last_timepoint.empty:\n",
    "            mean_last_timepoint = df_exp_pos_last_timepoint[column_name].mean()\n",
    "            std_last_timepoint = df_exp_pos_last_timepoint[column_name].std()\n",
    "            cv_last_timepoint = std_last_timepoint / mean_last_timepoint\n",
    "            cv_dict[exp_pos] = cv_last_timepoint\n",
    "\n",
    "    return cv_dict"
   ]
  },
  {
   "cell_type": "code",
   "execution_count": 8,
   "id": "39427b76",
   "metadata": {},
   "outputs": [],
   "source": [
    "### CV based on Norm intensity values\n",
    "\n",
    "cv_values_mk_ypg = calculate_coefficient_of_variation_last_timepoint(df_mk_ypg_norm, '_mKate_3D_concentration_autoBkgr_from_vol_fl_meanProj_norm')\n",
    "cv_values_mk_abf2 = calculate_coefficient_of_variation_last_timepoint(dabf2_df_mk_norm, '_mKate_3D_concentration_autoBkgr_from_vol_fl_meanProj_norm')\n",
    "\n",
    "cv_values_ng_ypg = calculate_coefficient_of_variation_last_timepoint(df_ng_ypg_norm, '_NG_3D_concentration_autoBkgr_from_vol_fl_meanProj_norm')\n",
    "cv_values_ng_abf2 = calculate_coefficient_of_variation_last_timepoint(dabf2_df_ng_norm, '_NG_3D_concentration_autoBkgr_from_vol_fl_meanProj_norm')"
   ]
  },
  {
   "cell_type": "code",
   "execution_count": 10,
   "id": "f9e07cc5",
   "metadata": {},
   "outputs": [],
   "source": [
    "cv_mk_ypg = pd.DataFrame(list(cv_values_mk_ypg.items()), columns=['exp_pos', 'cv_mk_ypg'])\n",
    "cv_mk_abf2 = pd.DataFrame(list(cv_values_mk_abf2.items()), columns=['exp_pos', 'cv_mk_abf2'])\n",
    "\n",
    "# Merge cv_dfs on 'exp_pos'\n",
    "cv_mk_df = pd.merge(cv_mk_ypg, cv_mk_abf2, on='exp_pos', how='outer')\n",
    "cv_mk_df = cv_mk_df.drop(columns=['exp_pos'])"
   ]
  },
  {
   "cell_type": "code",
   "execution_count": 11,
   "id": "5d67aa12",
   "metadata": {},
   "outputs": [],
   "source": [
    "cv_ng_ypg = pd.DataFrame(list(cv_values_ng_ypg.items()), columns=['exp_pos', 'cv_ng_ypg'])\n",
    "cv_ng_abf2 = pd.DataFrame(list(cv_values_ng_abf2.items()), columns=['exp_pos', 'cv_ng_abf2'])\n",
    "\n",
    "cv_ng_df = pd.merge(cv_ng_ypg, cv_ng_abf2, on='exp_pos', how='outer')\n",
    "cv_ng_df = cv_ng_df.drop(columns=['exp_pos'])"
   ]
  },
  {
   "cell_type": "code",
   "execution_count": 12,
   "id": "49b7c2fd",
   "metadata": {},
   "outputs": [],
   "source": [
    "# Calculate the mean for each DataFrame\n",
    "mean_ng = cv_ng_df.mean()\n",
    "\n",
    "# Calculate the standard deviation for each DataFrame\n",
    "std_ng = cv_ng_df.std()\n",
    "\n",
    "# Melt the DataFrame for the swarm plot\n",
    "cv_ng_melted = cv_ng_df.melt(var_name='DataFrame', value_name='CoV')\n",
    "\n",
    "cv_ng_melted = cv_ng_melted.dropna()"
   ]
  },
  {
   "cell_type": "code",
   "execution_count": 13,
   "id": "33109293",
   "metadata": {},
   "outputs": [],
   "source": [
    "# Calculate the mean for each DataFrame\n",
    "mean_mk = cv_mk_df.mean()\n",
    "\n",
    "# Calculate the standard deviation for each DataFrame\n",
    "std_mk = cv_mk_df.std()\n",
    "\n",
    "# Melt the DataFrame for the swarm plot\n",
    "cv_mk_melted = cv_mk_df.melt(var_name='DataFrame', value_name='CoV')\n",
    "\n",
    "cv_mk_melted = cv_mk_melted.dropna()"
   ]
  },
  {
   "cell_type": "code",
   "execution_count": 14,
   "id": "d4be1e8f",
   "metadata": {},
   "outputs": [
    {
     "data": {
      "image/png": "[encoded data removed]",
      "text/plain": [
       "<Figure size 720x360 with 2 Axes>"
      ]
     },
     "metadata": {
      "needs_background": "light"
     },
     "output_type": "display_data"
    }
   ],
   "source": [
    "fig, (ax1, ax2) = plt.subplots(1, 2, figsize=(10, 5))  # Adjust the figsize as needed\n",
    "\n",
    "# Plot the first swarm plot on ax1\n",
    "swarm1 = sns.swarmplot(data=cv_ng_melted, x='DataFrame', y='CoV', ax=ax1, color='#007676')\n",
    "ax1.set_title('CoV Atp6-NG') \n",
    "ax1.set_xticklabels(ax1.get_xticklabels(), rotation=45) \n",
    "\n",
    "# Calculate the mean and standard deviation for the first swarm plot\n",
    "mean_ng_std = cv_ng_melted.groupby('DataFrame', sort=False)['CoV'].agg(['mean', 'std'])\n",
    "x_values_ng = np.arange(len(mean_ng_std))\n",
    "\n",
    "# Plot mean with error bars on ax1\n",
    "ax1.errorbar(x=x_values_ng, y=mean_ng_std['mean'], yerr=mean_ng_std['std'], fmt='o', color='black', linewidth=1, capsize=3, alpha=0.8, label='Mean ± Std Dev NG')\n",
    "\n",
    "# Add lines to represent the mean on ax1\n",
    "for i, mean in enumerate(mean_ng_std['mean']):\n",
    "    ax1.hlines(mean, i - 0.3, i + 0.3, colors='k', alpha=0.8, linewidth=1, label='Mean')\n",
    "\n",
    "ax1.set_ylim(0, 1.1)\n",
    "\n",
    "# Plot the second swarm plot on ax2\n",
    "swarm2 = sns.swarmplot(data=cv_mk_melted, x='DataFrame', y='CoV', ax=ax2, color='#760076')\n",
    "ax2.set_title('CoV Atp6-mKate')  \n",
    "ax2.set_xticklabels(ax2.get_xticklabels(), rotation=45) \n",
    "\n",
    "# Calculate the mean and standard deviation for the second swarm plot\n",
    "mean_mk_std = cv_mk_melted.groupby('DataFrame', sort=False)['CoV'].agg(['mean', 'std'])\n",
    "x_values_mk = np.arange(len(mean_mk_std))\n",
    "\n",
    "# Plot mean with error bars on ax2\n",
    "ax2.errorbar(x=x_values_mk, y=mean_mk_std['mean'], yerr=mean_mk_std['std'], fmt='v', color='black', linewidth=1, capsize=3, alpha=0.8, label='Mean ± Std Dev MK')\n",
    "\n",
    "# Add lines to represent the mean on ax2\n",
    "for i, mean in enumerate(mean_mk_std['mean']):\n",
    "    ax2.hlines(mean, i - 0.3, i + 0.3, colors='k', alpha=0.8, linewidth=1, label='Mean')\n",
    "\n",
    "ax2.set_ylim(0, 1.1)\n",
    "\n",
    "plt.tight_layout(rect=[0, 0, 0.5, 1])  # Rect parameter adjusts the space for the suptitle\n",
    "#plt.savefig('CoV_ypg_abf2_haploids_10hrs_norm.svg', transparent = True)"
   ]
  }
 ],
 "metadata": {
  "kernelspec": {
   "display_name": "Python 3",
   "language": "python",
   "name": "python3"
  },
  "language_info": {
   "codemirror_mode": {
    "name": "ipython",
    "version": 3
   },
   "file_extension": ".py",
   "mimetype": "text/x-python",
   "name": "python",
   "nbconvert_exporter": "python",
   "pygments_lexer": "ipython3",
   "version": "3.8.8"
  }
 },
 "nbformat": 4,
 "nbformat_minor": 5
}
