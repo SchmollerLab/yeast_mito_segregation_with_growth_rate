{
 "cells": [
  {
   "cell_type": "markdown",
   "metadata": {},
   "source": [
    "## import packages"
   ]
  },
  {
   "cell_type": "code",
   "execution_count": 1,
   "metadata": {},
   "outputs": [],
   "source": [
    "import pandas as pd\n",
    "import matplotlib.pyplot as plt\n",
    "import seaborn as sns\n",
    "import os"
   ]
  },
  {
   "cell_type": "markdown",
   "metadata": {},
   "source": [
    "# define threshold for green vs No signal"
   ]
  },
  {
   "cell_type": "code",
   "execution_count": 2,
   "metadata": {},
   "outputs": [],
   "source": [
    "def return_sample(x):\n",
    "    if x<1000:\n",
    "        return 'No signal'\n",
    "    elif  x>1001:\n",
    "        return 'Green signal'\n",
    "    else:\n",
    "        return None\n",
    "\n"
   ]
  },
  {
   "cell_type": "markdown",
   "metadata": {},
   "source": [
    "# run main script"
   ]
  },
  {
   "cell_type": "code",
   "execution_count": 4,
   "metadata": {
    "scrolled": true
   },
   "outputs": [
    {
     "name": "stdout",
     "output_type": "stream",
     "text": [
      "20231213_yCJ043xyCO354_Zygote10_6_rep1_Results.csv\n",
      "20231213_yCJ043xyCO354_Zygote11_7_rep1_Results.csv\n",
      "20231213_yCJ043xyCO354_Zygote12_5_rep1_Results.csv\n",
      "20231213_yCJ043xyCO354_Zygote1_5_rep1_Results.csv\n",
      "20231213_yCJ043xyCO354_Zygote2_5_rep1_Results.csv\n",
      "20231213_yCJ043xyCO354_Zygote3_5_rep1_Results.csv\n",
      "20231213_yCJ043xyCO354_Zygote4_5_rep1_Results.csv\n",
      "20231213_yCJ043xyCO354_Zygote5_5_rep1_Results.csv\n",
      "20231213_yCJ043xyCO354_Zygote6_5_rep1_Results.csv\n",
      "20231213_yCJ043xyCO354_Zygote7_5_rep1_Results.csv\n",
      "20231213_yCJ043xyCO354_Zygote8_5_rep1_Results.csv\n",
      "20231213_yCJ043xyCO354_Zygote9_7_rep1_Results.csv\n",
      "20231215_yCJ043xyCO354_Zygote14_5_rep3_Results.csv\n",
      "20231215_yCJ043xyCO354_Zygote15_5_rep3_Results.csv\n",
      "20231215_yCJ043xyCO354_Zygote16_5_rep3_Results.csv\n",
      "20231215_yCJ043xyCO354_Zygote17_5_rep3_Results.csv\n",
      "20231215_yCJ043xyCO354_Zygote18_5_rep3_Results.csv\n",
      "20231215_yCJ043xyCO354_Zygote19_5_rep3_Results.csv\n",
      "20231215_yCJ043xyCO354_Zygote20_5_rep3_Results.csv\n",
      "20231215_yCJ043xyCO354_Zygote21_5_rep3_Results.csv\n",
      "20231215_yCJ043xyCO354_Zygote22_5_rep3_Results.csv\n",
      "20231215_yCJ043xyCO354_Zygote23_5_rep3_Results.csv\n",
      "20231215_yCJ043xyCO354_Zygote24_5_rep3_Results.csv\n",
      "20231215_yCJ043xyCO354_Zygote25_5_rep3_Results.csv\n",
      "20231215_yCJ043xyCO354_Zygote26_5_rep3_Results.csv\n",
      "20231215_yCJ043xyCO354_Zygote27_5_rep3_Results.csv\n",
      "20231215_yCJ043xyCO354_Zygote28_5_rep3_Results.csv\n",
      "20231215_yCJ043xyCO354_Zygote29_5_rep3_Results.csv\n",
      "20231215_yCJ043xyCO354_Zygote30_5_rep3_Results.csv\n",
      "20231215_yCJ043xyCO354_Zygote31_5_rep3_Results.csv\n",
      "20240222_yCJ043xyCO354_rep2_Z033_9_Results.csv\n",
      "20240222_yCJ043xyCO354_rep2_Z034_9_Results.csv\n",
      "20240222_yCJ043xyCO354_rep2_Z035_9_Results.csv\n",
      "20231215_yCJ043xyCO354_Zygote13_5_rep3_Results.csv\n",
      "20240222_yCJ043xyCO354_rep2_Z032_9_Results.csv\n",
      "20240222_yCJ043xyCO354_rep2_Z036_9_Results.csv\n",
      "20240222_yCJ043xyCO354_rep2_Z048_9_Results.csv\n",
      "20240314_plastic_yCJ043xyCO354_rep4_Z059_9_Results.csv\n",
      "20240314_plastic_yCJ043xyCO354_rep4_Z070_9_Results.csv\n",
      "20240222_yCJ043xyCO354_rep2_Z037_9_Results.csv\n",
      "20240222_yCJ043xyCO354_rep2_Z038_9_Results.csv\n",
      "20240222_yCJ043xyCO354_rep2_Z039_9_Results.csv\n",
      "20240222_yCJ043xyCO354_rep2_Z040_9_Results.csv\n",
      "20240222_yCJ043xyCO354_rep2_Z041_9_Results.csv\n",
      "20240222_yCJ043xyCO354_rep2_Z042_9_Results.csv\n",
      "20240222_yCJ043xyCO354_rep2_Z043_9_Results.csv\n",
      "20240222_yCJ043xyCO354_rep2_Z044_9_Results.csv\n",
      "20240222_yCJ043xyCO354_rep2_Z045_9_Results.csv\n",
      "20240222_yCJ043xyCO354_rep2_Z046_9_Results.csv\n",
      "20240222_yCJ043xyCO354_rep2_Z047_9_Results.csv\n",
      "20240222_yCJ043xyCO354_rep2_Z049_9_Results.csv\n",
      "20240222_yCJ043xyCO354_rep2_Z050_9_Results.csv\n",
      "20240222_yCJ043xyCO354_rep2_Z051_9_Results.csv\n",
      "20240314_plastic_yCJ043xyCO354_rep4_Z052_9_Results.csv\n",
      "20240314_plastic_yCJ043xyCO354_rep4_Z053_9_Results.csv\n",
      "20240314_plastic_yCJ043xyCO354_rep4_Z054_9_Results.csv\n",
      "20240314_plastic_yCJ043xyCO354_rep4_Z055_9_Results.csv\n",
      "20240314_plastic_yCJ043xyCO354_rep4_Z056_9_Results.csv\n",
      "20240314_plastic_yCJ043xyCO354_rep4_Z057_9_Results.csv\n",
      "20240314_plastic_yCJ043xyCO354_rep4_Z058_9_Results.csv\n",
      "20240314_plastic_yCJ043xyCO354_rep4_Z060_9_Results.csv\n",
      "20240314_plastic_yCJ043xyCO354_rep4_Z061_9_Results.csv\n",
      "20240314_plastic_yCJ043xyCO354_rep4_Z062_9_Results.csv\n",
      "20240314_plastic_yCJ043xyCO354_rep4_Z063_9_Results.csv\n",
      "20240314_plastic_yCJ043xyCO354_rep4_Z064_9_Results.csv\n",
      "20240314_plastic_yCJ043xyCO354_rep4_Z065_9_Results.csv\n",
      "20240314_plastic_yCJ043xyCO354_rep4_Z066_9_Results.csv\n",
      "20240314_plastic_yCJ043xyCO354_rep4_Z067_9_Results.csv\n",
      "20240314_plastic_yCJ043xyCO354_rep4_Z068_9_Results.csv\n",
      "20240314_plastic_yCJ043xyCO354_rep4_Z069_9_Results.csv\n",
      "20240314_plastic_yCJ043xyCO354_rep4_Z071_9_Results.csv\n",
      "20240314_plastic_yCJ043xyCO354_rep5_Z072_9_Results.csv\n",
      "20240314_plastic_yCJ043xyCO354_rep5_Z073_9_Results.csv\n",
      "20240314_plastic_yCJ043xyCO354_rep5_Z074_9_Results.csv\n",
      "20240314_plastic_yCJ043xyCO354_rep5_Z075_9_Results.csv\n",
      "20240314_plastic_yCJ043xyCO354_rep5_Z076_9_Results.csv\n",
      "20240314_plastic_yCJ043xyCO354_rep5_Z077_9_Results.csv\n",
      "20240314_plastic_yCJ043xyCO354_rep5_Z078_9_Results.csv\n",
      "20240314_plastic_yCJ043xyCO354_rep5_Z079_9_Results.csv\n",
      "20240314_plastic_yCJ043xyCO354_rep5_Z080_9_Results.csv\n",
      "20240314_plastic_yCJ043xyCO354_rep5_Z081_9_Results.csv\n",
      "20240314_plastic_yCJ043xyCO354_rep5_Z082_9_Results.csv\n",
      "20240314_plastic_yCJ043xyCO354_rep5_Z083_9_Results.csv\n",
      "20240314_plastic_yCJ043xyCO354_rep5_Z084_9_Results.csv\n",
      "20240314_plastic_yCJ043xyCO354_rep5_Z085_9_Results.csv\n"
     ]
    }
   ],
   "source": [
    "results = \"/media/huygens/BigData21/Felix/sensors/homoplasmy/43x354/decon/Merged//results/\"\n",
    "df = pd.DataFrame(columns=('Area', 'Mean', 'IntDen', 'RawIntDen', \"Zygote\"))\n",
    "for j in os.listdir(results):\n",
    "    if j.endswith(\"csv\"):\n",
    "        print(j)\n",
    "        df1 = pd.read_csv(results+ j, header=0)\n",
    "        df1[\"Zygote\"]= j[:-4]\n",
    "        df= pd.concat([df,df1])\n",
    "df['Sample'] = df[\"Mean\"].apply(return_sample)\n",
    "df['Replicate'] = df['Zygote'].apply(return_replicate)\n",
    "\n",
    "all_counts = df.groupby(\"Zygote\" ).agg(\"count\").reset_index()\n",
    "individual_counts = df.groupby([\"Zygote\", \"Sample\"] ).agg(\"count\").reset_index()\n",
    "final_df = individual_counts.merge(all_counts, on='Zygote')\n",
    "final_df['ratio']= final_df['Area_x']/final_df['Sample_y']\n",
    "final_df = individual_counts.merge(all_counts, on='Zygote')\n",
    "final_df['ratio']= final_df['Area_x']/final_df['Sample_y']\n",
    "final_df['Replicate'] = final_df['Zygote'].apply(return_replicate)\n",
    "final_df = final_df[['Sample_x','Area_x','Area_y','ratio','Replicate']]\n",
    "final_df.rename({'Sample_x': 'Signal', 'Area_x': 'Cells', 'Area_y': 'Total_cells'}, axis=\"columns\", inplace=True)\n"
   ]
  },
  {
   "cell_type": "code",
   "execution_count": 5,
   "metadata": {},
   "outputs": [],
   "source": [
    "def return_replicate(x):\n",
    "    if 'rep1' in x:\n",
    "        return 'rep1'\n",
    "    elif 'rep2' in x:\n",
    "        return 'rep2'\n",
    "    elif 'rep3' in x:\n",
    "        return 'rep3'\n",
    "    elif 'rep4' in x:\n",
    "        return 'rep4'\n",
    "    elif 'rep5' in x:\n",
    "        return 'rep5'\n",
    "    else:\n",
    "        print(x)\n",
    "\n",
    "df['Replicate'] = df['Zygote'].apply(return_replicate)"
   ]
  },
  {
   "cell_type": "code",
   "execution_count": 17,
   "metadata": {},
   "outputs": [],
   "source": [
    "server = \"/run/user/1001/gvfs/smb-share:server=dev.cellbio.bzm,share=thoma,user=thoma/DataFrames/sensors/homoplams/\""
   ]
  },
  {
   "cell_type": "code",
   "execution_count": 18,
   "metadata": {},
   "outputs": [],
   "source": [
    "df.to_pickle(server + \"homoplasmy_check_yCJ43xyCO354_raw.pkl\")"
   ]
  },
  {
   "cell_type": "code",
   "execution_count": 19,
   "metadata": {},
   "outputs": [],
   "source": [
    "final_df.to_pickle(server + \"homoplasmy_check_yCJ43xyCO354_final_df.pkl\")"
   ]
  }
 ],
 "metadata": {
  "kernelspec": {
   "display_name": "Python 3",
   "language": "python",
   "name": "python3"
  },
  "language_info": {
   "codemirror_mode": {
    "name": "ipython",
    "version": 3
   },
   "file_extension": ".py",
   "mimetype": "text/x-python",
   "name": "python",
   "nbconvert_exporter": "python",
   "pygments_lexer": "ipython3",
   "version": "3.7.3"
  }
 },
 "nbformat": 4,
 "nbformat_minor": 4
}
