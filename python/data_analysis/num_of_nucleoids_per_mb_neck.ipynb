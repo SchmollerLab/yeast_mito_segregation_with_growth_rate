{
 "cells": [
  {
   "cell_type": "code",
   "execution_count": 39,
   "id": "c9868f87-577c-4365-b66d-e472c81a1941",
   "metadata": {},
   "outputs": [
    {
     "name": "stdout",
     "output_type": "stream",
     "text": [
      "Requirement already satisfied: statsmodels in /opt/anaconda3/lib/python3.8/site-packages (0.12.2)\n",
      "Requirement already satisfied: pandas>=0.21 in /opt/anaconda3/lib/python3.8/site-packages (from statsmodels) (1.3.5)\n",
      "Requirement already satisfied: patsy>=0.5 in /opt/anaconda3/lib/python3.8/site-packages (from statsmodels) (0.5.1)\n",
      "Requirement already satisfied: numpy>=1.15 in /opt/anaconda3/lib/python3.8/site-packages (from statsmodels) (1.20.1)\n",
      "Requirement already satisfied: scipy>=1.1 in /opt/anaconda3/lib/python3.8/site-packages (from statsmodels) (1.6.2)\n",
      "Requirement already satisfied: python-dateutil>=2.7.3 in /opt/anaconda3/lib/python3.8/site-packages (from pandas>=0.21->statsmodels) (2.8.1)\n",
      "Requirement already satisfied: pytz>=2017.3 in /opt/anaconda3/lib/python3.8/site-packages (from pandas>=0.21->statsmodels) (2021.1)\n",
      "Requirement already satisfied: six in /opt/anaconda3/lib/python3.8/site-packages (from patsy>=0.5->statsmodels) (1.15.0)\n"
     ]
    }
   ],
   "source": [
    "import numpy as np\n",
    "import pandas as pd\n",
    "import seaborn as sns\n",
    "import matplotlib.pyplot as plt\n",
    "!pip install statsmodels\n",
    "import statsmodels.api as sm\n",
    "from scipy.stats import norm\n",
    "import math\n",
    "\n",
    "#%load_ext lab_black\n",
    "\n",
    "pd.set_option(\"max_columns\", 500)"
   ]
  },
  {
   "cell_type": "code",
   "execution_count": 4,
   "id": "74d71adb-090d-48ae-b3d9-bd3e050d583e",
   "metadata": {},
   "outputs": [
    {
     "data": {
      "text/html": [
       "<div>\n",
       "<style scoped>\n",
       "    .dataframe tbody tr th:only-of-type {\n",
       "        vertical-align: middle;\n",
       "    }\n",
       "\n",
       "    .dataframe tbody tr th {\n",
       "        vertical-align: top;\n",
       "    }\n",
       "\n",
       "    .dataframe thead th {\n",
       "        text-align: right;\n",
       "    }\n",
       "</style>\n",
       "<table border=\"1\" class=\"dataframe\">\n",
       "  <thead>\n",
       "    <tr style=\"text-align: right;\">\n",
       "      <th></th>\n",
       "      <th>series_name</th>\n",
       "      <th>tif_file</th>\n",
       "      <th>cell_id</th>\n",
       "      <th>amount_of_nucleoids</th>\n",
       "      <th>bud_size</th>\n",
       "    </tr>\n",
       "  </thead>\n",
       "  <tbody>\n",
       "    <tr>\n",
       "      <th>0</th>\n",
       "      <td>6</td>\n",
       "      <td>1</td>\n",
       "      <td>1</td>\n",
       "      <td>1</td>\n",
       "      <td>s</td>\n",
       "    </tr>\n",
       "    <tr>\n",
       "      <th>1</th>\n",
       "      <td>NaN</td>\n",
       "      <td>1</td>\n",
       "      <td>2</td>\n",
       "      <td>0</td>\n",
       "      <td>l</td>\n",
       "    </tr>\n",
       "    <tr>\n",
       "      <th>2</th>\n",
       "      <td>NaN</td>\n",
       "      <td>2</td>\n",
       "      <td>3</td>\n",
       "      <td>3</td>\n",
       "      <td>m</td>\n",
       "    </tr>\n",
       "    <tr>\n",
       "      <th>3</th>\n",
       "      <td>NaN</td>\n",
       "      <td>2</td>\n",
       "      <td>4</td>\n",
       "      <td>0</td>\n",
       "      <td>l</td>\n",
       "    </tr>\n",
       "    <tr>\n",
       "      <th>4</th>\n",
       "      <td>NaN</td>\n",
       "      <td>3</td>\n",
       "      <td>5</td>\n",
       "      <td>1</td>\n",
       "      <td>s</td>\n",
       "    </tr>\n",
       "    <tr>\n",
       "      <th>...</th>\n",
       "      <td>...</td>\n",
       "      <td>...</td>\n",
       "      <td>...</td>\n",
       "      <td>...</td>\n",
       "      <td>...</td>\n",
       "    </tr>\n",
       "    <tr>\n",
       "      <th>88</th>\n",
       "      <td>NaN</td>\n",
       "      <td>9</td>\n",
       "      <td>15</td>\n",
       "      <td>1</td>\n",
       "      <td>s</td>\n",
       "    </tr>\n",
       "    <tr>\n",
       "      <th>89</th>\n",
       "      <td>NaN</td>\n",
       "      <td>10</td>\n",
       "      <td>16</td>\n",
       "      <td>1</td>\n",
       "      <td>s</td>\n",
       "    </tr>\n",
       "    <tr>\n",
       "      <th>90</th>\n",
       "      <td>NaN</td>\n",
       "      <td>10</td>\n",
       "      <td>17</td>\n",
       "      <td>1</td>\n",
       "      <td>m</td>\n",
       "    </tr>\n",
       "    <tr>\n",
       "      <th>91</th>\n",
       "      <td>NaN</td>\n",
       "      <td>10</td>\n",
       "      <td>18</td>\n",
       "      <td>1</td>\n",
       "      <td>m</td>\n",
       "    </tr>\n",
       "    <tr>\n",
       "      <th>92</th>\n",
       "      <td>NaN</td>\n",
       "      <td>10</td>\n",
       "      <td>19</td>\n",
       "      <td>0</td>\n",
       "      <td>m</td>\n",
       "    </tr>\n",
       "  </tbody>\n",
       "</table>\n",
       "<p>93 rows × 5 columns</p>\n",
       "</div>"
      ],
      "text/plain": [
       "   series_name  tif_file  cell_id  amount_of_nucleoids bud_size\n",
       "0            6         1        1                    1        s\n",
       "1          NaN         1        2                    0        l\n",
       "2          NaN         2        3                    3        m\n",
       "3          NaN         2        4                    0        l\n",
       "4          NaN         3        5                    1        s\n",
       "..         ...       ...      ...                  ...      ...\n",
       "88         NaN         9       15                    1        s\n",
       "89         NaN        10       16                    1        s\n",
       "90         NaN        10       17                    1        m\n",
       "91         NaN        10       18                    1        m\n",
       "92         NaN        10       19                    0        m\n",
       "\n",
       "[93 rows x 5 columns]"
      ]
     },
     "execution_count": 4,
     "metadata": {},
     "output_type": "execute_result"
    }
   ],
   "source": [
    "df = pd.read_csv(\"laco_nucleoids_per_fivemin.csv\", delimiter=\";\")\n",
    "df"
   ]
  },
  {
   "cell_type": "code",
   "execution_count": 5,
   "id": "4ae3a96f-60da-4df7-bff0-7fb78765a90c",
   "metadata": {},
   "outputs": [
    {
     "name": "stdout",
     "output_type": "stream",
     "text": [
      "Counts:\n",
      "1    47\n",
      "0    20\n",
      "2    16\n",
      "3     9\n",
      "4     1\n",
      "Name: amount_of_nucleoids, dtype: int64\n",
      "\n",
      "Percentages:\n",
      "1    50.537634\n",
      "0    21.505376\n",
      "2    17.204301\n",
      "3     9.677419\n",
      "4     1.075269\n",
      "Name: amount_of_nucleoids, dtype: float64\n",
      "93\n"
     ]
    }
   ],
   "source": [
    "# Calculate the counts for entries 1, 2, 3, and 4 in 'number_of_nuc'\n",
    "counts = df['amount_of_nucleoids'].value_counts()\n",
    "\n",
    "# Calculate the percentages\n",
    "all_cells = len(df)\n",
    "percentages = counts / all_cells * 100\n",
    "\n",
    "# Display the counts and percentages\n",
    "print(\"Counts:\")\n",
    "print(counts)\n",
    "\n",
    "print(\"\\nPercentages:\")\n",
    "print(percentages)\n",
    "print(all_cells)"
   ]
  },
  {
   "cell_type": "code",
   "execution_count": 6,
   "id": "b7b7d401-4239-47ca-bce5-29fe09bdfe3a",
   "metadata": {},
   "outputs": [
    {
     "data": {
      "image/png": "[encoded data removed]",
      "text/plain": [
       "<Figure size 720x432 with 1 Axes>"
      ]
     },
     "metadata": {
      "needs_background": "light"
     },
     "output_type": "display_data"
    }
   ],
   "source": [
    "grouped_df = df.groupby(['bud_size', 'amount_of_nucleoids']).size().reset_index(name='count')\n",
    "\n",
    "pivot_df = grouped_df.pivot(index='amount_of_nucleoids', columns='bud_size', values='count')\n",
    "\n",
    "# Create the stacked bar plot\n",
    "ax = pivot_df.plot(kind='bar', stacked=True, figsize=(10, 6))\n",
    "\n",
    "ax.set_xlabel('number_of_nucleoids')\n",
    "ax.set_ylabel('# of cells')\n",
    "ax.set_title('Stacked Bar Plot - Count of Entries by Bud Size and Number of Nucleoids')\n",
    "plt.ylim(0,50)\n",
    "\n",
    "plt.rcParams[\"svg.fonttype\"] = \"none\"\n",
    "plt.savefig('number_of_nucleoids_per_five_min.svg', transparent = True)"
   ]
  },
  {
   "cell_type": "code",
   "execution_count": 41,
   "id": "33d2f158-ec03-452c-974c-ea540bb385fe",
   "metadata": {},
   "outputs": [
    {
     "data": {
      "image/png": "[encoded data removed]",
      "text/plain": [
       "<Figure size 360x144 with 1 Axes>"
      ]
     },
     "metadata": {},
     "output_type": "display_data"
    }
   ],
   "source": [
    "plt.figure(figsize=(5, 2))  # Adjust the width and height as needed\n",
    "\n",
    "plt.bar(counts.index, percentages, width=0.6, align='center', alpha=0.7, color = '#006262')\n",
    "\n",
    "# Set labels and title\n",
    "plt.xlabel('Nucleoid number')\n",
    "plt.ylabel('Percentage of cells')\n",
    "plt.title('Nucleoids passing from mother to daughter within 5 minutes')\n",
    "\n",
    "max_percent_rounded = math.ceil(max(percentages))\n",
    "plt.yticks(np.arange(0, max_percent_rounded + 1, step=10)) \n",
    "\n",
    "# Set y-axis ticks to represent percentages\n",
    "plt.gca().set_yticklabels(['{:.0f}%'.format(x) for x in plt.gca().get_yticks()])\n",
    "\n",
    "plt.rcParams['svg.fonttype'] = 'none'\n",
    "plt.savefig('nucleoids_passing_from_mother_to_daughter_hist_percentages.svg', transparent = True)"
   ]
  },
  {
   "cell_type": "code",
   "execution_count": 63,
   "id": "db5b54fe-4b0f-4e7b-b431-5317d185236d",
   "metadata": {},
   "outputs": [
    {
     "data": {
      "image/png": "[encoded data removed]",
      "text/plain": [
       "<Figure size 216x216 with 1 Axes>"
      ]
     },
     "metadata": {},
     "output_type": "display_data"
    }
   ],
   "source": [
    "plt.figure(figsize=(3, 3))\n",
    "plt.pie(percentages, labels=percentages.index, autopct='%1.1f%%', startangle=90, colors=[  '#00D4D4', '#00AFAF', '#008080', '#006262', '#001414'])\n",
    "plt.title('Nucleoids passing from mother to daughter within 5 minutes')\n",
    "plt.axis('equal') \n",
    "plt.legend()\n",
    "plt.rcParams['svg.fonttype'] = 'none'\n",
    "plt.savefig('nucleoids_passing_from_mother_to_daughter_pie_percentages.svg', transparent = True)"
   ]
  }
 ],
 "metadata": {
  "kernelspec": {
   "display_name": "Python 3",
   "language": "python",
   "name": "python3"
  },
  "language_info": {
   "codemirror_mode": {
    "name": "ipython",
    "version": 3
   },
   "file_extension": ".py",
   "mimetype": "text/x-python",
   "name": "python",
   "nbconvert_exporter": "python",
   "pygments_lexer": "ipython3",
   "version": "3.8.8"
  }
 },
 "nbformat": 4,
 "nbformat_minor": 5
}
